{
 "cells": [
  {
   "cell_type": "code",
   "execution_count": 13,
   "metadata": {},
   "outputs": [
    {
     "name": "stdout",
     "output_type": "stream",
     "text": [
      "Enter directory of the MARC record in txt form: prints.txt\n",
      "﻿=LDR  06076nka a2200853Ia 4500\n",
      "\n",
      "=LDR  05506nka a2200745Ia 4500\n",
      "\n",
      "=LDR  05572nka a2200757Ia 4500\n",
      "\n",
      "=LDR  06992nka a2200841Ia 4500\n",
      "\n",
      "=LDR  04034cka a2200697Ia 4500\n",
      "\n",
      "=LDR  05549nka a2200745Ia 4500\n",
      "\n",
      "=LDR  07055nkm a2200817Ia 4500\n",
      "\n",
      "=LDR  06104nkm a2200625Ia 4500\n",
      "\n",
      "=LDR  04678nkm a2200481Ia 4500\n",
      "\n",
      "=LDR  03636nkm a2200577Ia 4500\n",
      "\n"
     ]
    }
   ],
   "source": [
    "directory = input(\"Enter directory of the MARC record in txt form: \")\n",
    "\n",
    "master = open(directory,\"r\",encoding='utf-8')\n",
    "\n",
    "x = 0\n",
    "print_next = True\n",
    "\n",
    "for line in master:\n",
    "    if print_next:\n",
    "        print(line)\n",
    "        x += 1\n",
    "        print_next = False\n",
    "    if (line == '\\n'):\n",
    "        print_next = True\n",
    "    if x >= 10:\n",
    "        break    "
   ]
  },
  {
   "cell_type": "code",
   "execution_count": 14,
   "metadata": {},
   "outputs": [
    {
     "name": "stdout",
     "output_type": "stream",
     "text": [
      "Enter directory of the MARC record in txt form: prints.txt\n",
      "﻿=LDR  06076nka a2200853Ia 4500\n",
      "\n",
      "=001  ocn974041130\n",
      "\n",
      "=003  OCoLC\n",
      "\n",
      "=005  20180109112326.0\n",
      "\n",
      "=007  kj\\bo|\n",
      "\n",
      "=007  kj\\ho|\n",
      "\n",
      "=008  170301s1589\\\\\\\\be\\nnn\\\\\\\\\\\\\\\\\\\\\\\\knlat\\d\n",
      "\n",
      "=035  \\\\$a(OCoLC)974041130\n",
      "\n",
      "=035  \\\\$a08980\n",
      "\n",
      "=035  \\\\$aB07-116\n",
      "\n"
     ]
    }
   ],
   "source": [
    "directory = input(\"Enter directory of the MARC record in txt form: \")\n",
    "\n",
    "master = open(directory,\"r\",encoding='utf-8')\n",
    "\n",
    "x = 0\n",
    "\n",
    "for line in master:\n",
    "    if '\\n' in line:\n",
    "        print(line)\n",
    "        x += 1\n",
    "    if x >= 10:\n",
    "        break    "
   ]
  },
  {
   "cell_type": "code",
   "execution_count": 15,
   "metadata": {},
   "outputs": [
    {
     "name": "stdout",
     "output_type": "stream",
     "text": [
      "Enter directory of the MARC record in txt form: prints.txt\n",
      "﻿=LDR  06076nka a2200853Ia 4500\n",
      "\n",
      "=001  ocn974041130\n",
      "\n",
      "=003  OCoLC\n",
      "\n",
      "=005  20180109112326.0\n",
      "\n",
      "=007  kj\\bo|\n",
      "\n",
      "=007  kj\\ho|\n",
      "\n",
      "=008  170301s1589\\\\\\\\be\\nnn\\\\\\\\\\\\\\\\\\\\\\\\knlat\\d\n",
      "\n",
      "=035  \\\\$a(OCoLC)974041130\n",
      "\n",
      "=035  \\\\$a08980\n",
      "\n",
      "=035  \\\\$aB07-116\n",
      "\n"
     ]
    }
   ],
   "source": [
    "directory = input(\"Enter directory of the MARC record in txt form: \")\n",
    "\n",
    "master = open(directory,\"r\",encoding='utf-8')\n",
    "\n",
    "x = 0\n",
    "\n",
    "for line in master:\n",
    "    if line[len(line) - 1] == '\\n':\n",
    "        print(line)\n",
    "        x += 1\n",
    "    if x >= 10:\n",
    "        break    "
   ]
  },
  {
   "cell_type": "code",
   "execution_count": 16,
   "metadata": {},
   "outputs": [
    {
     "name": "stdout",
     "output_type": "stream",
     "text": [
      "yes\n"
     ]
    }
   ],
   "source": [
    "test = ['trees', 'fish']\n",
    "\n",
    "if 'trees' in test:\n",
    "    print('yes')\n",
    "else:\n",
    "    print('no')"
   ]
  },
  {
   "cell_type": "code",
   "execution_count": 2,
   "metadata": {},
   "outputs": [
    {
     "name": "stdout",
     "output_type": "stream",
     "text": [
      "Enter directory of the MARC record in txt form: prints.txt\n",
      "﻿=LD\n",
      "=001\n",
      "=003\n",
      "=005\n",
      "=007\n",
      "=007\n",
      "=008\n",
      "=035\n",
      "=035\n",
      "=035\n"
     ]
    }
   ],
   "source": [
    "directory = input(\"Enter directory of the MARC record in txt form: \")\n",
    "\n",
    "master = open(directory,\"r\",encoding='utf-8')\n",
    "\n",
    "x = 0\n",
    "for line in master:\n",
    "    prefix = line[0:4]\n",
    "    print(prefix)\n",
    "    x += 1\n",
    "    \n",
    "    if x >= 10:\n",
    "        break"
   ]
  },
  {
   "cell_type": "code",
   "execution_count": 4,
   "metadata": {},
   "outputs": [
    {
     "name": "stdout",
     "output_type": "stream",
     "text": [
      "['001', '003', '005', '007', '008', '010', '035', '040', '041', '043', '049', '092', '100', '245', '246', '250', '260', '300', '336', '337', '338', '490', '500', '505', '510', '520', '530', '533', '541', '546', '580', '590', '600', '610', '630', '650', '651', '653', '655', '700', '710', '740', '752', '773', '830', '856', '907', '910', '945', '998']\n"
     ]
    }
   ],
   "source": [
    "master = open('prints.txt',\"r\",encoding='utf-8')\n",
    "\n",
    "prefixes = []\n",
    "\n",
    "for line in master:\n",
    "    prefix = line[0:4]    \n",
    "    if (prefix[1:] in prefixes):\n",
    "        continue        \n",
    "    elif ('L' in prefix) or ('\\n' in prefix):\n",
    "        continue\n",
    "    else:\n",
    "        prefixes.append(prefix[1:])        \n",
    "    \n",
    "master.close()\n",
    "prefixes.sort()\n",
    "\n",
    "print(prefixes)"
   ]
  },
  {
   "cell_type": "code",
   "execution_count": 4,
   "metadata": {},
   "outputs": [
    {
     "name": "stdout",
     "output_type": "stream",
     "text": [
      "10\n",
      "0\n",
      "1\n",
      "2\n",
      "3\n",
      "4\n",
      "5\n",
      "6\n",
      "7\n",
      "8\n",
      "9\n",
      "10\n"
     ]
    }
   ],
   "source": [
    "print(x)\n",
    "x = 0\n",
    "print(x)\n",
    "\n",
    "while x < 10:\n",
    "    x += 1\n",
    "    print(x)"
   ]
  },
  {
   "cell_type": "code",
   "execution_count": 5,
   "metadata": {},
   "outputs": [
    {
     "name": "stdout",
     "output_type": "stream",
     "text": [
      "['h', 'e', 'l', 'l', 'o']\n"
     ]
    }
   ],
   "source": [
    "hello = ['h', 'e', 'l', 'l', 'a']\n",
    "hello[4] = 'o'\n",
    "print(hello)"
   ]
  },
  {
   "cell_type": "code",
   "execution_count": 6,
   "metadata": {},
   "outputs": [
    {
     "name": "stdout",
     "output_type": "stream",
     "text": [
      "['', '', '', '', '']\n"
     ]
    }
   ],
   "source": [
    "hella = [''] * len(hello)\n",
    "print(hella)"
   ]
  },
  {
   "cell_type": "code",
   "execution_count": 2,
   "metadata": {
    "collapsed": true
   },
   "outputs": [],
   "source": [
    "#returns a list of 3-character string fields from a txt version of a mnemonic MARC record (.mrk)\n",
    "\n",
    "def getPrefixes(marcText):\n",
    "    marcTextFile = open(marcText,\"r\",encoding='utf-8')\n",
    "\n",
    "    prefixes = []\n",
    "\n",
    "    for line in marcTextFile:\n",
    "        prefix = line[0:4]    \n",
    "        if (prefix[1:] in prefixes):\n",
    "            continue        \n",
    "        elif ('L' in prefix) or ('\\n' in prefix):\n",
    "            continue\n",
    "        else:\n",
    "            prefixes.append(prefix[1:])        \n",
    "    \n",
    "    marcTextFile.close()\n",
    "    prefixes.sort()\n",
    "    return prefixes"
   ]
  },
  {
   "cell_type": "code",
   "execution_count": 33,
   "metadata": {},
   "outputs": [
    {
     "name": "stdout",
     "output_type": "stream",
     "text": [
      "['001', '003', '005', '007', '008', '010', '035', '040', '041', '043', '049', '092', '100', '245', '246', '250', '260', '300', '336', '337', '338', '490', '500', '505', '510', '520', '530', '533', '541', '546', '580', '590', '600', '610', '630', '650', '651', '653', '655', '700', '710', '740', '752', '773', '830', '856', '907', '910', '945', '998']\n"
     ]
    }
   ],
   "source": [
    "print(prefixes)"
   ]
  },
  {
   "cell_type": "code",
   "execution_count": 3,
   "metadata": {
    "collapsed": true
   },
   "outputs": [],
   "source": [
    "#given a string that is the MARC record for a single item as well as a list of fields, return a list that contains\n",
    "#the content of that MARC record with each element corresponding to the proper field\n",
    "\n",
    "def buildRecord(marcRecord, prefixes):\n",
    "    marcTextFile = open(marcRecord,\"r\",encoding='utf-8')\n",
    "    csvRecord = [''] * (len(prefixes) + 1)\n",
    "    \n",
    "    for line in marcTextFile:\n",
    "        if 'LDR' in line:\n",
    "            csvRecord[0] = line[line.find('  ') + 2:len(line) - 1]\n",
    "        else:            \n",
    "            for prefix in prefixes:                \n",
    "                if line[1:4] == prefix:\n",
    "                    csvRecord[prefixes.index(prefix) + 1] = csvRecord[prefixes.index(prefix) + 1] + '\\\"' + line[6:len(line) - 1] + '\\\"'    \n",
    "   \n",
    "    marcTextFile.close()\n",
    "    return csvRecord"
   ]
  },
  {
   "cell_type": "code",
   "execution_count": 44,
   "metadata": {
    "collapsed": true
   },
   "outputs": [],
   "source": [
    "testFile = open('testt.txt','w')\n",
    "\n",
    "testFile.write('Hello  world.')\n",
    "\n",
    "testFile.close()"
   ]
  },
  {
   "cell_type": "code",
   "execution_count": 43,
   "metadata": {},
   "outputs": [
    {
     "name": "stdout",
     "output_type": "stream",
     "text": [
      "hi hello how, are you,ej,bj,\n"
     ]
    }
   ],
   "source": [
    "lst = ['hi hello how, are you', 'ej', 'bj']\n",
    "string = ''\n",
    "for element in lst:\n",
    "    string += element + ','\n",
    "print(string)"
   ]
  },
  {
   "cell_type": "code",
   "execution_count": 4,
   "metadata": {},
   "outputs": [
    {
     "name": "stdout",
     "output_type": "stream",
     "text": [
      "Enter the directory of the txt version of the MARC record: monographs1.txt\n",
      "Where would you like output to be saved: monographs1.csv\n"
     ]
    }
   ],
   "source": [
    "def getPrefixes(marcText):\n",
    "    marcTextFile = open(marcText,\"r\",encoding='utf-8')\n",
    "\n",
    "    prefixes = []\n",
    "\n",
    "    for line in marcTextFile:\n",
    "        prefix = line[0:4]    \n",
    "        if (prefix[1:] in prefixes):\n",
    "            continue        \n",
    "        elif ('L' in prefix) or ('\\n' in prefix):\n",
    "            continue\n",
    "        else:\n",
    "            prefixes.append(prefix[1:])        \n",
    "    \n",
    "    marcTextFile.close()\n",
    "    prefixes.sort()\n",
    "    return prefixes\n",
    "\n",
    "def buildRecord(marcRecord, prefixes):\n",
    "    marcTextFile = open(marcRecord,\"r\",encoding='utf-8')\n",
    "    csvRecord = [''] * (len(prefixes) + 1)\n",
    "    \n",
    "    for line in marcTextFile:\n",
    "        if 'LDR' in line:\n",
    "            csvRecord[0] = line[line.find('  ') + 2:len(line) - 1]\n",
    "        else:            \n",
    "            for prefix in prefixes:                \n",
    "                if line[1:4] == prefix:\n",
    "                    csvRecord[prefixes.index(prefix) + 1] = csvRecord[prefixes.index(prefix) + 1] + '\\\"' + line[6:len(line) - 1] + '\\\"'    \n",
    "   \n",
    "    marcTextFile.close()\n",
    "    return csvRecord\n",
    "\n",
    "fileName = input('Enter the directory of the txt version of the MARC record: ')\n",
    "target = input('Where would you like output to be saved: ')\n",
    "\n",
    "marcMaster = open(fileName,'r',encoding='utf-8')\n",
    "outputFile = open(target,'w',encoding='utf-8')\n",
    "\n",
    "prefixes = getPrefixes(fileName)\n",
    "\n",
    "outputFile.write('LDR')\n",
    "\n",
    "for prefix in prefixes:\n",
    "    outputFile.write(',' + '\\\"' + prefix + '\\\"')\n",
    "    \n",
    "outputFile.write('\\n')\n",
    "\n",
    "currentRecord = ''\n",
    "writeRecord = ''\n",
    "for line in marcMaster:\n",
    "    if line == '\\n':        \n",
    "        temp = open('singleRecord.txt', 'w',encoding='utf-8')\n",
    "        temp.write(currentRecord)\n",
    "        temp.close()\n",
    "        itemRecord = buildRecord('singleRecord.txt', prefixes)\n",
    "        writeRecord = ''\n",
    "        for element in itemRecord:\n",
    "            if writeRecord != '':\n",
    "                writeRecord += ',' + element\n",
    "            else:\n",
    "                writeRecord += element\n",
    "        writeRecord += '\\n'\n",
    "        outputFile.write(writeRecord)\n",
    "        currentRecord = ''\n",
    "        continue\n",
    "    else:\n",
    "        currentRecord += line\n",
    "        \n",
    "outputFile.close()\n",
    "marcMaster.close()"
   ]
  },
  {
   "cell_type": "code",
   "execution_count": 18,
   "metadata": {},
   "outputs": [],
   "source": [
    "#write output as csv with uniform title in one column and frequency in another\n",
    "\n",
    "marcMaster = open('master.txt','r',encoding='utf-8')\n",
    "\n",
    "#limit = 0\n",
    "\n",
    "title_and_frequency = []\n",
    "\n",
    "for line in marcMaster:\n",
    "    #if limit >= 100:\n",
    "        #break\n",
    "        \n",
    "    prefix = line[1:4]\n",
    "    if prefix == '240':\n",
    "        first_dollar = line.find('$')\n",
    "        second_dollar = line.find('$', first_dollar + 1)\n",
    "        \n",
    "        if second_dollar == -1:\n",
    "            uniform_title = line[first_dollar + 2:]            \n",
    "        else:\n",
    "            uniform_title = line[first_dollar + 2:second_dollar]       \n",
    "        \n",
    "        while uniform_title[len(uniform_title) - 1] == '.' or uniform_title[len(uniform_title) - 1] == '\\n':\n",
    "                uniform_title = uniform_title[:len(uniform_title) - 1]\n",
    "        \n",
    "        #print(line)\n",
    "        \n",
    "        if uniform_title not in title_and_frequency:\n",
    "            title_and_frequency.append(uniform_title)\n",
    "            title_and_frequency.append(1)\n",
    "        else:\n",
    "            title_and_frequency[title_and_frequency.index(uniform_title) + 1] += 1\n",
    "        \n",
    "        #limit += 1\n",
    "\n",
    "#print(title_and_frequency)\n",
    "\n",
    "output_csv = open('title_frequency_list.txt','w',encoding='utf-8')\n",
    "output_csv.write('title,frequency\\n')\n",
    "\n",
    "title = True\n",
    "\n",
    "for element in title_and_frequency:    \n",
    "    if title:\n",
    "        if ',' in element:\n",
    "            element = '\\\"' + element + '\\\"'\n",
    "        output_csv.write(element)\n",
    "        output_csv.write(',')\n",
    "        title = False\n",
    "    else:\n",
    "        output_csv.write(str(element))\n",
    "        output_csv.write('\\n')\n",
    "        title = True\n",
    "\n",
    "output_csv.close()\n",
    "marcMaster.close()"
   ]
  },
  {
   "cell_type": "code",
   "execution_count": 7,
   "metadata": {},
   "outputs": [
    {
     "name": "stdout",
     "output_type": "stream",
     "text": [
      "[\"Histoire des plantes, nouuellement trouuées en l'Isle Virgine, & autres lieux, lesquelles ont esté prises & cultiuées au iarden de Monsieur Robin arboriste du Roy. Non encore veuës n'y imprimées par cy deuant\", 'Biblia ectypa minora, veteris testamenti historias sacras et res maximi momenti exhibentia, /', 'Tablas chronologicas, :', 'Atlas geographicus portatilis, XXIX. mappis orbis habitabilis regna exhibens. /', 'The history of little Goody Twoshoes; otherwise called Mrs. Margery Twoshoes. :', 'The Holy Bible abridged; or, The history of the Old and New Testament. :', 'The Holy Bible abridged: or, The history of the Old and New Testament. :', 'The remarkable history of Augi: or, a Picture of true happiness. :', 'Semana en honor del angelico joven San Luis Gonzaga. /', 'Semana en honor del angelico joven San Luis Gonzaga. /'] ['Vida, y milagros del glorioso patriarca Ignacio de Loyola, fundador de la Compañia de Iesus. /', 'Hispania, sive De regis Hispaniae regnis et opibus commentarius', 'Hugo Grotius De mari libero et P. Merula De maribus', 'Portugallia sive De regis Portugalliæ regnis et opibus commentarius', 'Totius orbis terraru[m] regionum ciuitatu[m] fluuioru[m] montiu[m] syluaru[m] suis geminis nominibus expressis accurata descriptio', 'Pequeño ramillete. :', 'Novena de el sagrado precursor de Christo S. Juan Baptista, /', 'Espiritual exercicio :', 'Lettres /', 'Exorcismo y evangelios de señor San Joseph, /', '[Praeparatio ad missam pro opportunitate sacerdotis facienda]', 'Manualito de las mas usuales bendiciones que se aconstumbran, con experimentado provecho, de sanos, y enfermos. :', 'Novena de S. Francisco Xavier, apostol del Oriente. Và al fin añadida la otra devocion de la decena, que suelen hacer sus devotos en diez viernes â honra del mismo Santo. /', 'Manualito de las mas usuales bendiciones, que se acostumbran, con experimentado provecho de sanos, y enfermos. :', 'Novena en glorias de la amante arrepentida la gloriosa Santa Maria Magdalena :', 'Almanach des colonies. :', 'Etat de la Marine. :', 'Almanach des colonies. :', 'Etat de la Marine. :', 'Almanach des colonies. :', 'État de la Marine. :', 'Etat de la Marine. :', 'The death of Cain, :', 'Psalms, carefully suited to the Christian worship in the United States of America. :', 'The death of Abel. :', 'The death of Cain :', 'Little truths better than great fables: :', \"Wisdom in miniature: or The young gentleman and lady's pleasing instructor, :\", 'A golden treasury for the children of God, whose treasure is in heaven. :', 'A golden treasury, for the children of God, whose treasure is in heaven; :', 'Naufrage et aventures de M. Pierre Viaud, natif de Bordeaux, capitaine de navire, /', 'Bibliothèque portative du voyageur', 'The New-England primer enlarged: Or, An easy and pleasant guide to the art of reading. :', 'Gramont le grand, :', 'Extracts from the papers of Edwin Price, late of Neath Abbey, Glamorganshire, with some account of his last illness and death'] ['Cento, e dieci ricordi, che formano il buon fattor di villa. /', 'Compendio de la historia de el bienaventurado Felipe de Jesus, :', 'Alfonsi Ferri neapolitani medici eminentissimi, Pauli III. Pont. Maximi chirurgi primarii, De ligni sancti multiplici medicina, & vini exhibitione, libri quatuor. :', 'Carmina quinque illustrium poetarum. :', 'Ioan. Carionis Mathematici chronicorum libri tres. :', 'Les nouuelles, & antiques merueilles. :', 'Hieronymi Fracastorii Veron. Liber vnus, De sympathia & antipathia reru[m]. :', \"Les trois liures de l'histoire des Indes, acomplie de plusieurs choses memorables, /\", 'Antonii Musae Brasauoli Ferrariensis, examen omnium simplicium, quorum vsus in publicis est officinis :', 'Mores, leges, et ritus omnium gentium, /', 'Omnium gentium mores, leges et ritus /', 'Les diverses leçons /', 'Le theatre du monde, ou il est faict vn ample discours des miseres humaines: /', 'Mores, leges, et ritus omnium gentium, /', 'Brieue chronologie ou sommaire des temps, :', 'Practica medicinae generalis /', 'De herba panacea, quam alii tabacum, alii petum, aut nicotianam vocant, breuis commentariolus. :', 'Mores, leges, et ritus omnium gentium, /', 'Aesopi Phrygis fabulae, elegantissimis iconibus veras animalium species ad viuum adumbrantibus. /', 'Mores, leges, et ritus omnium gentium, /', 'Philippi Cluverii Introdvctionis in Vniversam geographiam :', 'Thomæ Mori Vtopia, a mendis vindicata', 'Adriani Spigelii philos. ac medici Patauini Isagoges in rem herbariam libri duo', 'R. P. D. Antonini Diana Panormitani, Cler. Reg. & S. officij in regno Sicil. consultoris, Practicae resolutiones lectissimorum casuum. :', 'Francisci Petrarchae de remediis utriusque fortunae, libri duo', 'Epitome de la vida, :', 'Iusti Lipsi de constantia libri duo, :', 'Batavise Romeyn; ofte Alle de voornaemste heldendaden, ridderlijke feyten en listige oorlogs-vonden, in veld en zeeslagen, overwinninge van steden en schepen, en in andere gelegentheden, by de Hollanders en Zeeuwen verricht, zedert den iare 1492 tot 1661. /', 'Practica de los exercicios espirituales de nuestro padre S. Ignacio. /', 'Pietra del paragone politico, /', 'Abregé de la vie de la B. Soeur Rose de Sainte Marie, religieuse du Tiers Ordre de S. Dominique, originaire du Perou dans les Indes Occidentales. :', 'Philippi Cluverii Introductionis in universam geographiam, tam veterem quàm novam, libri VI. :', 'Viaggio /', 'Philippi Cluverii Introductionis in universam geographiam :', 'Exercicio practico de la voluntad de Dios. :', 'Sefer mikve Yisrael', 'Locucion de Dios al corazon del religioso en el retiro sagrado de los exercicios espirituales. /', 'Novena de los gloriosos martires y santos hermanos Cosme, y Damian, :', 'Via dolorosa, cuchillos penetrantes de dolor, que traspasaron el corazon de la mas afligida Madre de Jesus. :', 'Practica del santo exercicio de la buena muerte. :', 'Copy of a letter by a gentleman in New-England, to his friend & correspondent at London, :', 'Novena que en reverente culto de su patrocinio, :', 'Novena a la rosa mystica Maria santissima del Rosario Nuestra Señora. :', 'Vida admirable y triunfante muerte de S. Juan Nepomuceno patron de la fama y de los que dessean confessarse bien. /', 'Ternario, y dolorosos exercicios, :', '[Novena de San Diego de Alcalá.]', 'Novena en honra del bien aventurado San Juan de la Cruz, :', 'Mystica toalla, o dulce exercicio, para enjugar â Christo nuestro señor, caído, y mojado en las profundas, y negras aguas del torrente cedron. /', 'Novena del glorioso principe, y sagrado archangel San Rafael. :', 'Novena a señor San Joseph esposo de Nuestra Señora /', 'Novena a la gloriossima virgen Santa Rosa de Santa Maria. :', 'Breves meditaciones sobre los novissimos, repartidas por los dias de  el mes. :', 'Cathedra de prima, en que Jesus pendiente enseña la sabiduria toda con sus siete palabras. :', 'Ofrecimiento devotissimo de la sagrada passion de Nuestro Señor Jesv-Christo, :', 'Novena del prime pontifice summo; :', 'Novena que en honor de el gloriosso San Eligio, obispo de Noyons, patron, y abogado de los plateros. :', 'Novena a el glorioso patriarcha Sto. Domingo de Guzman, :', 'Devocion a el corazon castissimo de el patriarcha mi señor S. Joseph, /', '[Novena del glorioso padre, doctor, y luz de la Iglesia San Augustin.]', '[Exercicio para contemplar el corazón de Jesus crucificado /', 'Theorica, y practica de la comunion espiritual. :', '[Dia eterno, viernes ultimo de mes. /', '[Nueve bienaventuranzas de San Joseph /', 'Corona dolorosa, :', '[Convite sagrado a las almas devotas :', 'Esmaltes de la corona con que fue coronada la emperatriz del empyreo Maria Santissima Nra. Señora, por el triumpho, que configuio Su Magestad contra la culpa original. :', 'Novena al glorioso S. Jacinto, del sagrado orden de predicadores. :', 'Novena a la esclarecida virgen, y doctora mystica Sta. Theresa de Jesus. :', 'Piadoso, y devoto exercicio para desagraviar â la Magestad de Jesu Christo, de la ingratitud, que recibió de aquel cruel sayon, quando hirió su rostro santissimo con una cruel bofetada en la noche de su passion. /', 'Ofrecimiento de la corona de Nuestro Señor Jesu-Christo, que comunmente llaman camandula, /', 'Semana Santa, o, Septenario devoto :', 'Cadena de oro, evangelica red, arrojada á la diestra de los electos, y escogidos: :', 'Trina confession de la fee. :', 'Novena, y sabados de la Immaculada Virgen Maria coronada Reyna de Loreto. /', 'Aparicion de la milagrosa imagen del Santo Christo, :', 'Aliento de pecadores. :', 'Octavario de los dolores mentales de Jesus, :', 'Novena a la prodigiosa imagen de N. Señora de la Soterraña de Nieva,  :', 'El zelador de la fee, perseguidor de los hereges, terror de los Turcos, luz de las virtudes, defensor invicto del Smo. nombre de Jesus, predicador apostolico, y zeloso de sus dulcissimas glorias :', 'Meditaciones de los novissimos :', 'Novena en honra, y gloria de la santissima Virgen Maria del Carmen. /', 'Novena de la Santa Veronica, :', 'Cadena de oro, evangelica red, arrojada a la diestra de los electos, y escogidos, :', 'Formular idea, y exemplar compendio de las obras quotidianas, y distribucion ordinaria de una esposa de Christo. /', 'Las tres caidas, que dio la Magestad de Christo en el camimo [sic] del Monte Calvario. :', 'Breve noticia del principio, y sucessos de la Virgen de la Cabeza, de Sierra Morena, :', 'Practica para andar las estaciones de la Semana Santa, :', 'Indice practico moral, para los sacerdotes, que auxilian moribundos. /', 'Novena muy util, y provechosa, :', 'Catecismo, y exposicion breve de la doctrina christiana. /', 'Dia diez y nueve, que veneran los devotos en cada uno de los doze meses del año, à honra de su gloriosissimo protector el patriarcha Sr. San Joseph. :', '[Quindena que en honra de la mejor Reyna Maria Santisima del Rosario /', 'Septena del Espiritu Santo, :', 'Ofrecimientos para el rosario de quinze mysterios que se ha de rezar el dia de los dolores de N. Señora la Virgen Maria. :', 'Rogativa de salud, oracion, y ensalmo del Santo Fr. Luis Beltran, :', 'Devota novena, con que los operarios del obraje (que llaman de Peredo) imploran el patrocinio del gloriosissimo San Roque, :', 'Novena de la Concepcion Purissima de la Virgen Maria Madre de Dios en su milagrosa imagen de Ocotlan, :', 'Septenario al gloriosissimo patriarca Sr. San Joseph de los siete privilegios de su patrocinio, :', 'Ofrecimiento de la corona de Nuestro Señor Jesu Christo, que comuumente [sic] llaman camandula, :', 'Desagravios de Jesus nuestro bien, :', 'Theorica, y practica de la comunion espiritual. :', 'Atlas geographico de la America septentrional y meridional :', 'Practica para andar las estaciones de la Semana Santa :', 'A relation of the missions of Paraguay. /', 'Desagravios, que se han de hacer a la suprema magestad de nuestro amantissimo Dios Trino y Uno, :', 'Triduo doloroso en obsequio, y memoria de los tres originales rostros, que Nuestro Redemptor dexó  estampados en el lienzo conque lo enjugó la piadola muger Veronica. :', 'Septenario devoto en honra de la gloriosa, y esclarecida virgen Sta. Gertrudis la Magna. :', 'Devocion de las cinco llagas de nuestro seraphico P. San Francisco /', 'Via dolorosa,  /', 'Modo de practicar la devocion de los treze viernes, :', 'Novena al Abrahan de la ley de gracia, y padre de pobres Juan de Dios. :', 'Novena al amabilissimo patriarcha San Juan de Dios. /', 'Septenario, y ofrecimiento a la preciosissima sangre de Christo señor nuestro', 'Novena de Sta. Coleta virgen, :', 'Dia diez y nueve, que veneran los devotos en cada uno de los doze meses del año, à honra de su gloriosissimo protector el patriarcha Sr. San Joseph. :', 'Triduo doloroso en obsequio, y memoria de los tres originales rostros, :', 'Septenario a la preciosissima sangre de Christo nuestra vida. /', '[Novena a Nuestra Señora de Alta Gracia]', 'Meditacion piadosa para considerar a Jesu-Christo Nuestro Señor :', 'Practica de novena al milagrosissimo padre de pobres San Juan de Dios. /', 'Devocion, y exercicio en honra de la inclyta doctora, y esclarecida virgen, y martyr Santa Catharina, :', 'Consejos espirituales, /', 'Novena a San Ignacio de Loyola, :', 'Novena a la inclyta penitente, :', 'Practica para celebrar el primer viernes de cada mes en honra del sagrado corazon de Jesus, y Maria', 'Novena mensal, de el transito de el santissimo patriarcha Sr. S. Joseph, :', 'Dia veinte y nueve de cada mes, celebrado con particular devocion en honra, y culto de la gloriosa Santa Cathalina de Sena, :', 'Metodo breve, y muy provechoso para ganar los santos jubileos de Bermeo, Porciuncula, y llagas de N. S. P. S. Francisco, :', 'Devocion al glorioso patriarcha señor S. Joseph dignissimo esposo de Maria, :', 'Instruccion muy provechosa para rezar el rosario de las cinco llagas de Christo Señor Nuestro, :', 'Mystica toalla, o Dulce exercicio, para enjugar á Christo Nuestro Señor, caído, y mojado en las profundas, y negras aguas de el torrente cedron. :', 'Tiernas memorias de las siete palabras que Christo crucificado dixo en el arbol santo de la cruz. :', 'The history of the Holy Jesus. :', 'A collection of hymns, from Dr. Watts, &c', 'Modo de hacer los actos de fee, esperanza y charidad. :', 'Compendio de la vida, y muerte de San Juan Nepomuceno, :', 'Novena al gloriosissimo patriarcha, Sr. S. Joseph, :', 'Novena de señor San Cayetano Tiene, /', 'Devocion para el dia dies y nueve de cada mes. A honra, y gloria, del patriarcha señor San Joseph. /', 'Doloroso rosario, :', 'Placeme, que la alma devota puede dár el Domiogo de Pasqua a Maria santissima nuestra Señora, :', 'Breve resumen de lo que precissamente debe saber el chistiano [sic] para salvarse. /', 'Exercicios devotos para desagraviar a Christo sacramentado, de los agravios, que recibe de los malos christianos. /', 'El Seraphin con seis alas del throno de Christo sacramentado. :', 'Novena de la gloriosa reyna Santa Elena, madre del emperador Constantino. /', 'Novena del glorioso padre, doctor, y luz de la Iglesia San Augustin. /', 'Septenario devoto en honra de la gloriosa, y esclarecida virgen Sta. Gertrudis la Magna. :', 'Novena en obsequio de señor San Cayetano Tiene, /', 'Piadoso, y devoto exercicio para desagraviar á la Magestad de Jesu-Christo :', 'Novena de la concepcion purisima de la Virgen Maria madre de Dios en su milagrosa imagen de Ocotlan, para mayor honra y gloria de Dios, y de la santisima madre. /', 'Mystico relox, que en las breves meditaciones del V.P. Luis de la Puente señala las horas de la oracion para todo el año; :', 'Cultos sagrados en debido reconocimiento del santissimo rostro de Christo, :', 'Novenario de la s[antis]s[i]ma Virgen de los Remedios, :', 'A continuation of the narrative of the Indian charity-school, begun in Lebanon, in Connecticut; :', 'Viva Jesus. Septenario devotissimo à la preciosissima sangre de Jesus nuestro Redemptor, :', 'Camino doloroso, que llevó desde el Santo Sepulcro hasta el Sagrado Cenaculo nuestra tierna afligida Madre Maria Purisima con el Amado Discipulo, y piadosas mugeres, :', 'Devocion para los miercoles a señor San Juan Nepomuceno. /', 'Devocion pia, util, y provechosa al dulcissimo sagrado nombre de Maria, :', 'Novena de la serenissima emperatriz de cielo, y tierra nuestra santissima señora y mayor abogada la Virgen Maria de las Nieves. /', 'Novena de San Cayetano Tiene, :', 'Practica para alcanzar lo que se pide a Dios por San Francisco de Sales, :', 'Novena a la gloriosisima virgen Santa Rosa de Santa Maria. /', 'Novena del taumaturgo eremita, firmisima columna del mundo, y egemplar de penitentes San Nicolas Tolentino. /', 'Novena devota, consagrada al soberano pescador de las almas, glorioso discipulo de Christo Señor Nuestro, San Andres apostol. /', 'A sermon on the present situation of American affairs. :', 'Novena al glorioso martyr S. Christoval, :', 'Novena en honra de nuestra gloriosisima madre Sta. Mónica. /', 'Devogion [sic], y novena del glorioso patriarcha Sr. San Joaquin, :', 'Novena a Jesus Sr. Nro. crucificado, y a Maria dolorosissima su Madre, :', 'Desagravios dolorosos, y tiernas memorias, :', 'Novena al glorioso patriarcha S. Phelipe Neri, fundador de la Congregacion del Oratorio', 'Devocion para los miercoles al inclito martir el señor San Juan Nepomuceno, abogado de la honra', 'Novena del beatissimo principe de los apostoles nuestro padre San Pedro /', 'Novena de la preciosissima sangre de Christo, :', 'Gracias, e indulgencias, que gozan los hermanos de la Archi-cofradia del cordon de N.S.P.S. Francisco. :', 'Modo de ofrecer los santos jubileos, y de rezar los cinco altares', 'Novena a la gloriosissima redemptora Maria S[antis]s[i]ma Nuestra Señora coronada Reyna de la Merced, o Misericordia. /', 'State of Rhode-Island and Providence Plantations. In General Assembly, December 2d session, 1776. :', 'State of Rhode-Island and Providence Plantations. In General Assembly, December 2d session, 1776. :', 'Devoto triduo en honor del milagroso corazon de el gran padre y doctor cherubico San Augustin. :', 'Some necessary remarks on the education of the youth in the country-parts of this, and the neighbouring governments', 'Novena devotisima de la Reyna del cielo y de la tierra Maria Santisima de Cobadonga, :', 'Theorica, y practica de la comunion espiritual. :', 'Novena a S. Cayetano Tiene, :', 'Ofrecimiento de la preciosissima Sangre de Christo, Señor Nuestro. /', 'Novena de el Ssmo. Sacramento, donde el devoto de tan admirable misterio hallarà motivos eficaces para amarlo, y especiales obsequios para servirlo. /', \"Neuvaine à l'honneur de Saint François Xavier de la Compagnie de Jesus, apôtre des Indes et du Japon\", 'Septenario doloroso a las necessidades de Maria Virgen, desamparo de Jesus, y santo entierro de Christo Nuestro Redemptor. /', 'Devocion, y novena del glorioso patriarcha Sr. S. Joaquin, :', 'Novena del gloriosissimo patriarcha Sr. San Jóseph, :', 'Cultos sagrados en debido reconocimiento del santissimo rostro de Christo, :', 'Novena en obsequio de la gran Madre de Dios, :', 'Modo de rezar la Corona de la Virgen, :', 'Novena en memoria y reverencia del augustisimo y sacrosanto Nombre de Jesus. /', 'Altisimas felicidades de la dichosa consorte de San Zacharias, y digna madre del sagrado Bautista S. Juan, Santa Isabel, ponderadas en los nueve dias precedentes al venturoso, en que Maria Santisima, ocupada del vervo hecho hombre en sus purisimas entrañas la visitò en las montañas de Judéa. /', 'Almanach en politiek zakboekje voorde vereenigde Nederlanders.  :', 'Modo de practicar la devocion de los treze viernes, :', 'Devocion a la santisima Virgen Maria Nuestra Señora, :', 'Dia quatro de cada mes en obsequio del serafico padre S. Francisco de Asis, :', 'Practica para andar la via-sacra, o via-crucis. /', 'Almanach des bergers, pour sette année MDCCLXXXIII', 'Almanach pour cette année M.DCC.LXXXIII /', 'Pseautier de David, :', 'El angelico joven S. Luis Gonzaga, :', 'The Psalter: or Psalms of David: :', 'Novena del gloriosisimo patriarca S. S. Joseph, :', 'Novena del gloriosisimo patriarca Sr. San Joseph, :', 'Breve compendio de la sagrada pasion y muerte de nuestro soberano redentor Jesus, :', 'Novena al inclyto, y gloriosisimo padre, y patriarca Santo Domingo de Guzman, :', 'Devocion al purisimo corazon de Jesus, :', 'Novena de la Santissima Virgen Maria de Loreto. /', 'Novena del santo de los santos nuestro señor Jesu-Christo sacramentado, :', 'Novena del glorioso principe, y sagrado arcangel San Rafael, :', 'Novena en honra de nuestra gloriosisima madre Santa Monica. /', 'Novena al glorioso y beato Simon de Roxas :', 'Dia diaz y siete, exercicio devoto en obsequio de S. Pasqual Baylon, :', 'Novena en honra de la soberana imagen de Christo crucificado, :', 'Devota novena, consagrada en reverente culto y debido obsequio a la augustisima, individua, y santisima Trinidad, :', 'Quindena que en honra de la mejor Reyna Maria Santisima del Rosario, /', 'Quinario para implorar el amparo del portentoso virgen, doctor y martir carmelita S. Pedro Thomas, :', 'Dia diez y nueve, consagrado en honra, culto y reverencia del gloriosisimo patriarca Sr. San Joseph, :', 'Devotisimo ofrecimiento del rosario de Nuestra Señora. /', 'Allgemeines historisches Taschenbuch oder Abriss der merkwürdigsten neuen Welt-Begebenheiten', 'Novena a San Ignacio de Loyola, patriarca y fundador de la Compañia de Jesus. /', 'Motivos eficaces para que valiendose los pecadores del amparo de Maria Santisima de los Dolores, :', 'Novena al sacratisimo corazon de Jesus. :', 'Exercicio para el dia trece de cada mes, :', 'Novena a la esclarecida virgen, madre de religiosas, Santa Clara, /', 'Septenario de el gloriosisimo patriarca S. S. Joseph, :', 'Noche triste del sagrado dia Viernes Santo, :', 'Compendio de la vida, y novena devota de la bienaventurada Mariana de Jesus, :', 'Devocion cotidiana a los siete principales dolores y gozos que tuvo en su vida el santisimo patriarca Sr. San Joseph, :', 'Novena de la preciosisima sangre de Christo :', 'Dia diaz y siete, exercicio devoto en obsequio de San Pasqual Baylon, :', 'Novenario a la s[antis]s[i]ma Virgen Maria de los Remedios, :', 'Sagrada novena y util devocion a Maria Santisima, que con el titulo del Madroñal se venera en el termino de la Villa de Auñon. :', 'The Constitution or frame of government, for the United States of America, :', 'Description des terres Magellaniques et des pays adjacens. /', 'Description des terres Magellaniques et des pays adjacens', 'Novena a honor, y gloria del pasmo de la penitencia, y altisimo en la contemplacion San Pedro de Alcantara, :', 'Septenario eucaristico, en honra del inclito martyr san Anastacio carmelita. :', 'Breve compendio de la vida y martirio de S. Felipe de Jesus, y devocion consagrada á celebrar su memoria el dia cinco de cada mes. /', 'Modo facil y provechoso de saludar y adorar los sacratisimos miembros de Jesu-Christo Señor Nuestro, en su santísima pasion. /', 'Indulgencias perpetuas, /', 'Novena a la Santisima Virgen Maria Madre de Dios, y Señora Nuestra: :', \"The Jesuit's travels in South America, Paraguay, Chili &c. /\", 'Novena que a honra, y gloria del extatico padre, y abrasado serafin de caridad, san Camilo de Lelis, :', 'Novena del glorioso martyr, defensor de la fe, y confusion de los hereges Sr. S. Pedro de Verona, :', 'Novena de la milagrosa imagen del santo Christo, :', 'Dia seis de cada mes, que se reza al esclarecido y gloriosisimo señor San Nicolas obispo el Magno, :', 'Novena a honra de S. Luis Gonzaga, :', 'Economia de la vida humana. /', 'Septenario de los dolores de Maria Santisima, :', 'Novena a la milagrosa esposa de Christo, :', 'Cinco circunstancias de una buena confession, :', 'Methodo para comulgar con mucho fruto. :', 'Novena a San Cayetano Tiene, :', 'Utilisima devocion, rezada todos los dias, siete gozos de la beatisima Virgen Maria. :', 'Novena del portentoso confesor de Jesu-Christo el B. Sebastian de Aparicio. :', 'Quatro máximas de christiana filosofia, :', 'Triságio mariano para venerar á María Santísima con los augustos titulos de Hija del Padre, Madre del Hijo, y Esposa del Espiritu Santo, :', 'Novena del portentoso confesor de Jesu-Christo el B. Sebastian de Aparicio, :', 'Jaculatorias sobre todas las meditaciones que encierra el Manual del P. Tomás de Villacastin, :', 'Devocion, y novena del glorioso patriarca Sr. San Joaquin, :', 'Devota, y sagrada novena a la Reyna de los Angeles Maria Santisima de las Angustias, /', 'The history of the Holy Jesus. :', 'Esclavitud verdaderamente feliz, que hace la alma devota al solo Señor de todo lo criado y criable: :', 'Novena sagrada a honor del serafin eucaristico San Juan de Sahagun. :', 'Novena de Nuestra Señora del Pueblito, :', 'Novena que en honor del glorioso San Eligio, :', 'Semana en honor del angelico joven S. Luis Gonzaga, /', 'Novena mensal del transito del santisimo patriarca Sr. San Joseph, para implorar una buena muerte. :', 'Novena al esclarecido obispo, y martyr San Atenogenes, y sus diez compañeros. :', 'Breve practica de devocion para implorar los socorros de la adorable y amorosa Providencia de Nuestro Dios y Señor, por la intercesion de los santos angeles de guarda', 'Poetico devocionario, conque en tierno metro se saludan las Sagradas Estaciones de la Via Sacra, :', 'Novena devota a el dulsísimo sagrado nombre de Maria /', 'Succinta explicacion de las tiernas y santas ceremonias de la seña, :', 'Modo de examimar [sic] la conciencia, :', 'Modo de ofrecer el santo jubileo, y rezar los cinco altares, devocion utilisima al santisimo sacramento', 'Dia diez y nueve, que veneran los devotos en cada uno de los doce meses del año, á honra de su gloriosísimo protector, el patriarca señor San Joseph, :', 'Consuelo a la Madre de Dios :', 'Noticias de la Provincia de Californias en tres cartas de un sacerdote religioso, hijo del Real convento de predicadores de Valencia a un amigo suyo', 'Dia quatro de cada mes de Nuestra Señora de refugio de pecadores, :', '[Catecismo y exposicion breve de la doctrina christiana. /', 'Novena al glorioso padre y patriarca Santo Domingo de Guzman. /', 'Novena de Santa Coleta virgen, :', 'Novena del glorioso padre, doctor y luz de la iglesia San Augustin. /', 'Novena en obsequio del santisimo patriarca Sr. S. Joseph. :', 'Breve explicacion de los bienes que gozan los que hacen la donacion de sus obras satisfactorias, :', 'Himno en celebridad de los prodigios obrados en la imágen de Nuestra Señora de los Angeles, :', 'Novena en culto y reverencia de la santísima Cruz, para celebrar qualquiera de sus tres festividades: :', 'Ircana en Yulfa. ', 'Seven sermons; :', 'Explicacion de las obligaciones de los hermanos de la santa escuela de Christo señor nuestro, :', 'Devocion a el nombre del esclarecido patriarca señor San Joaquin, :', 'Forma de ofrecer á nuestro amorosísimo Dios Trino todos nuestros pensamientos, palabras y obras, aún las indiferentes é inadvertidas, :', 'Calendario manual para el año del señor de 1798. /', 'Elogio de la señora Maria Josefa Bustos americana /', 'Devocion a la gloriosissima señora Santa Ana, :', 'Vida del Dr. Benjamin Franklin,', 'Historia de la conquista de México, poblacion y progresos de la América septentrional, conocida por el nombre de Nueva España /', 'Devocion cotidiana :', 'Novelas nuevas /', 'Kurzgefasstes Weiber-Büchlein.  :', 'Christianae militiae viaticum: or, A brief directory for evangelical ministers. /', 'Exercicio facil è importante para el trance de la agonìa', '[Novena del glorioso doctor de la iglesia S. Geronimo, abogado contra las tentaciones de la carne, y especial protector para conseguir la virtud de la castidad, /', 'Devocion y novena a Santa Maria Magdalena, :', 'Semana devota y dia quatro, para solicitar el patrocinio del santo negro San Benito de Palermo. /', 'Novena de la santisima Virgen Maria de Loreto, :', 'Novena consagrada à Maria Santisima de los Dolores, en memoria de los que padeció en el Calvario. /', 'Septena del Espiritu Santo :', 'Novena en obsequio de la gloriosa viuda Santa Monica madre del gran doctor San Agustin. /', 'Trisagio Mariano para venerar a Maria Santisima con los augustos titulos de Hija del Padre, Madre del Hijo, y Esposa del Espiritu Santo. :', 'Semana devota y dia quatro, para solicitar el patrocinio del santo negro San Benito de Palermo. /', 'Novena e obsequio del protomártir del sigilo de la confesion, :', 'Practica para alcanzar lo que se pide a Dios por San Francisco de Sales, :', 'Ofrecimiento de las cinco llagas, /', 'Triduo doloroso en obsequio y memoria de los tres originales rostros, que Nuestro Redentor dexó estampados en el lienzo :', 'Novena y sabados de la Inmaculada [sic] Virgen Maria coronada Reyna de Loreto. /', 'Novena, y semana a la gloriosa madre de la siempre Virgen Maria, y abuela de Jesus Sra. Sta. Anna. /', 'Devocion y noven [sic] del glorioso patriarca señor San Joachim, :', 'Utilisima devocion, rezada todos los dias, siete gozos de la beatisima Virgen Maria. :', 'Novena de San Cayetano Tiene, :', 'Novena del glorioso padre, doctor, y luz de la Iglesia. San Augustin. /', 'Devocion y novena al señor San Miguel arcangel. /', 'Novena a honra, alabanza y gloria de Dios, admirable en el bienaventurado Francisco de Gerónimo. :', 'Apocrifo del testamento que Napoleon I.e otorgo a favor de sus herederos el 16 de abril de 1809. /', 'Primera decoracion del Botanico Aragones, D. Gervasio Algarate, :', 'Utilisima devocion, rezada todos los dias, siete gozos de la beatisima Virgen Maria. :', 'Jornadas ó Via lactea, camino por donde corrio el Sol Divino de Justicia :', 'Novena, y semana a la gloriosa madre de la siempre Virgen Maria, y abuela de Jesus Sra. Sta. Ana. /', 'Practica para andar la via-sacra o via-crucis, /', 'Dias de Nuestra Señora, en que nuestra madre la santa Iglesia celebra sus festividades cada mes. /', 'Novena consagrada al culto y honor de los santos varones Josef y Nicodemus, :', 'Dia diez y nueve, que veneran los devotos en cada uno de los doce meses del año, :', 'Novena del esclarecido obispo y martir San Atenogenes y sus diez compañeros. :', 'Novena al glorioso taumaturgo San Antonio de Padua: :', 'Calendario manual para el año del señor de 1812 bisexto. /', 'Afectos, y alabanzas a la santísima Virgen Maria, /', 'Sagrado devoto triduo en honor del glorioso B. Francisco de Gerónimo, de la Compañia de Jesus. :', 'Novena del gloriosisimo patriarca señor San Jose :', 'Calendario manual para el año del Señor de 1816. bisexto. /', 'Calendario manual para el año del señor de 1817. /', 'Dia veinte y quatro en honor de San Antonio del Aguila', 'Corona a Maria Santisima de la Soledad, :', 'Repetidas visitas que ofrece la devocion al divinisimo señor sacramentado, :', 'Egercicios espirituales, para que el alma devota se prepare en el tiempo del Adviento, :', 'Novena en obsequio de la Santisima Virgen Maria bajo el titulo  de Mercedes. /', 'Novena en honra de la soberana imagen de Cristo crucificado, milagrosamente renovada, :', 'Novena en honra de la augustísima Maria Madre de la Santa Esperanza. /', 'Dia feliz en obsequio del amoroso corazon de Cristo Jesus sacramentado: :', 'Trecena a la gloriosa virgen y martir Santa Catarina, a los trece dias de su prision. /', 'Novena consagrada al culto y honor de los santos varones Jose y Nicodemus: :', 'Breve exercicio en honra del Adolorido Corazon de María Santísima', 'Calendario manual para el año del Señor de 1820. Bisiesto. :', 'Compendio de la historia del bienaventurado Felipe de Jesus, :', 'Práctica para andar las estaciones de la Semana Santa, con decencia, devocion, y fruto. /', 'Breve relacion de la destruccion de las Indias Occidentales. :', 'Triduo doloroso en obsequio y memoria de los tres orijinales rostros. :', 'Alabado que en el Real Santuario de Chalma cantan los peregrinos a Nuestro Señor Jesucristo crucificado. /', 'Examen de conciencia y confesonario [sic] provechoso para todo cristiano y saberse confesar de todos sus pecados. :', 'Breve relacion de la destruccion de las Indias occidentales. :', 'Novena sagrada a honor del serafin eucaristico S. Juan de Sahagun, :', 'Succinta explicacion de las tiernas y santas ceremonias de la seña. /', 'Dos utilísimas devociones por las cuales la Purisima Virgen dispensa los mas grandes favores, :', 'Novena a la santisima Virgen Maria de Guadalupe. /', 'Devocion para el dia tercero de cada mes, en honor del gloriosisimo apostol de la India S. Francisco Javier. /', 'Siete visitas ó estaciones al santisimo sacramento. /', 'Septenario de los dolores de María Santisima, :', 'Devocion a nuestro padre señor San José, /', 'Afectos y alabanzas á la santisima Virgen Maria, /', 'Modo de andar la Via Sacra, /', 'Novena de la Santisima Madre de la Luz. /', 'Breve ejercicio en honra del dolorido corazon de María Santísima', 'Práctica para andar las estaciones de la Semana Santa con decencia, devocion y fruto', 'Método para comulgar con mucho fruto. :', 'Triduo doloroso en obsequio y memoria de los tres originales rostros, :', 'Ofrecimientos de la tercera parte del santo rosario en honra del santisimo sacramento de la eucaristia. /', 'Novena dedicada al culto del ínclito presbítero San Caralampio, primer abogado contra la peste y aire contagioso, adoptado por el mismo Jesucristo. /', 'Devocion a Maria Santisima Nuestra Señora, util y provechosa a sus devotos. :', 'Oraciones /', 'Novena de la Santa Veronica o rostro sangriento de nuestro padre y amorosisimo Señor Jesucristo: :', 'Rosario a los siete derramamientos de la preciosa sangre de Nuestro Señor Jesucristo, que se compone de siete misterios. :', 'Décimas en alabanza de la Purisima Concepcion de Maria Santisima, y ofrecimiento de las tres Ave Marias', 'Excelencias de la Virgen Santisima Maria Madre de Dios y Señora Nuestra', 'Novena a la santisima Virgen Maria de Guadalupe /', 'El purgatorio descubierto a la piedad de los vivientes, :', 'Dia diez y nueve que veneran los devotos en cada uno de los doce meses del año, a honra de su gloriosisimo protector el patriarca señor San Jose. :', 'Obsequios al Sagrado Corazon de Jesus, :', 'Novena del Sto. Niño Cautivo que se venera en el altar de Sr. San Jose, de la Iglesia Catedral de Mexico. /', 'Devocion a las cinco letras del sacratisimo nombre de Maria, decimas en su alabanza, y ofrecimiento de las tres Avemarias', 'Deprecacion a la Virgen santisima de Guadalupe, implorando su favor en nuestras presentes necesidades', 'Práctica devota en honor de n. glorioso padre y mistico doctor S. Juan de la Cruz en los dias 24, 25 y 26 de cada mes', 'Novena en obsequio del protomartir del sigilo de la confesion, :', 'Novena que en caridad debemos hacer al glorioso martir San Bonifacio, :', 'Rasgo histórico sobre la renovacion del Señor de Santa Teresa: :', 'Triduo en honor de la insigne doctora Santa Teresa de Jesus, en los dias 15, 16 y 17 de cada mes', 'Triduo doloroso en obsequio y memoria de los tres originales rostros, :', 'Devocion a la Divina Providencia, util para todos los dias, y en especial para el dia primero de cada mes', 'Relox de musica para deleitar a Maria Santisima, con la repeticion de la Salutacion Angélica, :', 'Afectuosas oraciones para obsequiar y venerar a la augusta Madre de Dios. :', 'Devocion a la Divina Providencia, util para todos los dias, y en especial para el dia primero de cada mes. :', 'Jornadas devotas que hizo Maria Santisima llevando en su vientre al Divino sol de Justicia. /', 'Devocion a la Divina Providencia, util para todos los dias, y en especial para el dia primero de cada mes. :', 'Dia ocho del mes, en que se hace dulce recuerdo, de la Purisima Concepcion de Maria Santisima Señora Nuestra. /', 'Novena del esclarecido obispo y martyr S. Atenogenes, y sus diez compañeros: :', 'Novena a la esclarecida virgen Santa Gertrudis la Magna. :', 'Afectos y alabanzas a la santisima Virgen Maria, /', 'Triduo doloroso dedicado al Sto. Niño Cautivo que se venera en el altar de Sr. S. José de la Santa Iglesia Catedral de México. /', 'Novena al abismo de misericordia y padre de los pobres Santo Tomas de Villanueva, :', 'Martes guadalupano, consagrado en memoria de que en tal dia bajó del cielo Maria Santísima de Guadalupe. /', 'Novena del glorioso padre, doctor y luz de la iglesia San Agustin. /', 'Novena sagrada a honor del serafin eucaristico San Juan de Sahagun. :', 'Novena para la salvacion de los vivos y difuntos, :', 'Obsequios para todos los dias de la semana, y para el dia veinte y dos de cada mes, en honra de la bienaventurada Santa Rita de Casia. /', 'Memoria en honor de Santa Maria Magdalena, :', 'Gracias é indulgencias que gozan los hermanos de la Archicofradia del Cordon de N. S. P. S. Francisco, :', 'Novena que para venerar el augusto misterio de la Purisima Concepcion de Maria Santisima, /', 'Diario guadalupano :', 'Dia doce de cada mes consagrado a Nuestra Madre y Señora Maria Santisima de Guadalupe, en su maravillosa aparicion. /', 'Novena de la Santisima Madre de la Luz. /', 'Devocion a la Divina Providencia. :', 'Novena de la santa imagen del santo Cristo, :', 'Dia quince consagrado al culto de San Camilo de Lelis, :', 'Ofrecimientos de la tercera parte del santo rosario, en honra del santisimo sacramento de la eucaristia, :', 'Obsequio diario de visitar a la Santisima Virgen, o Corte de Maria. /', 'Gramática del tarasco. /'] [\"Satyre Menippee de la vertu de catholicon d'Espaigne. Et de la tenue des estats de Paris. :\", 'De vita B. Francisci Xauerii, qui primus è Societate Iesu in Indiam & Iaponiam euangelium inuexit, libri sex. /', 'Casparis Barlæi Antverpiani poemata. :', 'The moral practice of the Jesuites; :', \"Relation de ce qui s'est passé, dans les isles & terre-ferme de l'Amerique, :\", \"Description geographique et historique des costes de l'Amerique Septentrionale. :\", \"Description geographique et historique des costes de l'Amerique Septentrionale. :\", 'Histoire du tabac, ou il est traité particulierement du tabac en poudre. /', 'La vie et les actions memorables du Sr. Michel de Ruyter, Duc, Chevalier & Lt. Amiral General des Provinces Unies', 'Geographiae universalis pars prior [-posterior]. :', 'Casparis Barlæi Antverpiani poemata. :', 'Some fruits of solitude, :', 'More fruits of solitude :', \"Voyage curieux du R.P. Louis Hennepin, missionaire recollect, & notaire apostolique, qui contient une nouvelle decouverte d'un trés-grand pays, situé dans l'Amerique, entre le Nouveau Mexique & la mer glaciale, :\", \"Voyage curieux du R.P. Louis Hennepin, missionaire recollect, & notaire apostolique, qui contient une nouvelle decouverte d'un trés-grand pays, situé dans l'Amerique, entre le Nouveau Mexique, & la mer glaciale, :\", \"Voyage où Nouvelle découverte d'un très-grand païs, dans l'Amerique, entre le Nouveau Mexique et la mer glaciale. /\", 'Historie de la découverte et de la conquête du Perou, /', 'Histoire de la Virginie, :', 'Relaçam da vitoria que os Portuguezes alcançàraõ no Rio de Janeyro contra os Francezes, em 19. de Setembro de 1710. :', 'Lettres édifiantes et curieuses. :', 'Historia insulana das ilhas a Portugal sugeytas no oceano occidental, /', 'The truth of the Christian religion. :', 'La vie, les avantures, & le voyage de Groenland du révérend Père Cordelier Pierre de Mesange. :', 'Noticia que da el padre Pedro de la Hera, provincial de la provincia de Philipinas, à los padres, y hermanos de la Compañia de Jesus, de la vida, virtudes, y missiones del padre Antonio Xavier Mir, de la misma Compañia, y provincia', \"Histoire de l'isle Espagnole ou de S. Domingue. :\", 'A divine and supernatural light, immediately imparted to the soul by the spirit of God, shown to be both a scriptual and rational doctrine. :', 'Histoire de la découverte et de la conquête du Perou, /', 'Kurzer Catechismus vor etliche Gemeinen Jesu aus der Reformirten Religion in Pennsylvania, die sich zum alten Berner Synodo halten: /', 'Instructions to ministers: in three parts. :', 'Relacaõ das festas que se fizeram em Pernambuco pela feliz acclamacam do mui alto, e poderoso rey de Portugal D. Joseph I. Nosso Senhor do anno de 1751. para o de 1752. :', \"Discussion sommaire sur les anciennes limites de l'Acadie, et sur les stipulations du Traité d'Utrecht qui y sont relatives\", \"Histoire et commerce des colonies angloises, dans l'Amerique Septentrionale. :\", 'Histoire du Paraguay. /', 'Essai sur les interests du commerce maritime. /', \"Lettres sur l'électricité, :\", 'Mémoires sur la vie de M. de Laval, premier évêque de Quebec', \"The kingdom of God is the first thing to be sought by young people: or, Early piety recommended, in a sermon preach'd to young people, on April 8. 1762. And now made public at their desire. /\", 'Oekonomischpraktische Anleitung zum Flachsbau, worinnen die glückliche und erträgliche Folgen für ein Land, in welchem der Flachs angebauet, zubereitet und verarbeitet wird, angezeiget, auch die Manipulationen hierzu, wie es geschehen solle, gewiesen werden. :', 'Suite [-VII.me Suite] du Recueil des pieces concernant le bannisement des Jesuites de toutes les terres de la domination de Sa Majesté Catholique', 'Die ernsthaffte Christen-Pflicht, :', 'Some remarkable passages in the life of the Honourable Col. James Gardiner, :', \"L'art de calmer les flots de la mer, ou Epreuves des effets de l'huile sur les vagues de la mer\", 'The Battle of Brooklyn, :', 'The constitution and frame of government of the free and independent state and commonwealth of New Ireland, :', 'A letter from Elizabeth Webb to Anthony William Boehm, :', 'Tillförlåtlig underrättelse om Negrerne på Gvinea Kusten, :', \"Doctor Watts's imitation of the Psalms of David, /\", 'The vision of Columbus :', 'A short introduction to moral philosophy, :', 'The Federalist :', 'Sermons on the religious education of children; /', 'Spiritual songs: or, Songs of praise, with penitential cries to Almighty God, upon several occasions :', 'An Abstract of the evidence delivered before a select committee of the House of Commons, in the years 1790 and 1791; on the part of the petitioners for the abolition of the slave trade', 'An extract from the journal of Francis Asbury, Bishop of the Methodist - Episcopal Church in America, :', 'The Christian warrior animated and crowned :', 'Letters to a young lady,', 'Elements of moral science', 'Letters to the Jews; :', 'The age of reason. :', 'A collection of hymns, :', \"An answer to the question, why do you observe the rite, commonly called the Lord's Supper? :\", 'Some remarkable passages, in the life of the Hon. Col. James Gardiner, :', 'The Christian warrior animated and crowned :', 'The Christian warrior animated and crowned :', 'A treatise on the scarlatina anginosa;', \"The parent's assistant. :\", 'The baptism of Jesus Christ not to be imitated by Christians :', 'The age of reason. Part the second. :', 'Compilação de reflexões de Sanches, Pringle, Monro, Van-Swieten, e outros à cerca das causas, prevenções, e remedios das doenças dos exercitos ... /', \"The farmer's almanack, calculated on a new and improved plan, for the year of our Lord, 1800 :\", 'The will of General Washington, late President of the United States: :', 'A faithful narrative of the surprising work of God, in the conversion of many hundred souls, in Northampton, and the neighbouring towns and villages of New Hampshire, in New England; :', 'Notes on the state of Virginia. :', 'Interessante Darstellung des Königreiches Brasilien in geographischer, statistischer, naturhistorischer, politischer und mercantilischer Hinsicht. :', 'The prospect before us:, or, Facts and observations, illustrative of the past & present situation, and future prospects of the United States; :']\n"
     ]
    }
   ],
   "source": [
    "#generate a list of holdings arranged by bibliographic format (small formats only)\n",
    "\n",
    "marcMaster = open('master.txt','r',encoding='utf-8')\n",
    "\n",
    "#limit = 0\n",
    "\n",
    "thirty_two_mo = []\n",
    "twenty_four_mo = []\n",
    "sixteen_mo = []\n",
    "twelve_mo = []\n",
    "\n",
    "for line in marcMaster:\n",
    "    #if limit >= 100:\n",
    "        #break\n",
    "        \n",
    "    prefix = line[1:4]\n",
    "    if prefix == '245':\n",
    "        first_dollar = line.find('$')\n",
    "        second_dollar = line.find('$', first_dollar + 1)\n",
    "        \n",
    "        if second_dollar == -1:\n",
    "            title = line[first_dollar + 2:]            \n",
    "        else:\n",
    "            title = line[first_dollar + 2:second_dollar]       \n",
    "        \n",
    "        while title[len(title) - 1] == '.' or title[len(title) - 1] == '\\n':\n",
    "                title = title[:len(title) - 1]\n",
    "        \n",
    "        #print(title)\n",
    "        \n",
    "    if prefix == '300':\n",
    "        if \"32mo\" in line:\n",
    "            thirty_two_mo.append(title)\n",
    "        elif \"24mo\" in line:\n",
    "            twenty_four_mo.append(title)\n",
    "        elif \"16mo\" in line:\n",
    "            sixteen_mo.append(title)\n",
    "        elif \"12 mo\" in line:\n",
    "            twelve_mo.append(title)\n",
    "        \n",
    "        #limit += 1\n",
    "\n",
    "#print(thirty_two_mo, twenty_four_mo, sixteen_mo, twelve_mo)\n",
    "\n",
    "output_csv = open('32mo.txt','w',encoding='utf-8')\n",
    "output_csv.write('title\\n')\n",
    "for element in thirty_two_mo:    \n",
    "    if ',' in element:\n",
    "        element = '\\\"' + element + '\\\"'\n",
    "    output_csv.write(element)        \n",
    "    output_csv.write('\\n')\n",
    "output_csv.close()\n",
    "    \n",
    "output_csv = open('24mo.txt','w',encoding='utf-8')\n",
    "output_csv.write('title\\n')\n",
    "for element in twenty_four_mo:    \n",
    "    if ',' in element:\n",
    "        element = '\\\"' + element + '\\\"'\n",
    "    output_csv.write(element)        \n",
    "    output_csv.write('\\n')\n",
    "output_csv.close()\n",
    "\n",
    "output_csv = open('16mo.txt','w',encoding='utf-8')\n",
    "output_csv.write('title\\n')\n",
    "for element in sixteen_mo:    \n",
    "    if ',' in element:\n",
    "        element = '\\\"' + element + '\\\"'\n",
    "    output_csv.write(element)        \n",
    "    output_csv.write('\\n')\n",
    "output_csv.close()\n",
    "\n",
    "output_csv = open('12mo.txt','w',encoding='utf-8')\n",
    "output_csv.write('title\\n')\n",
    "for element in twelve_mo:    \n",
    "    if ',' in element:\n",
    "        element = '\\\"' + element + '\\\"'\n",
    "    output_csv.write(element)        \n",
    "    output_csv.write('\\n')\n",
    "output_csv.close()\n",
    "\n",
    "marcMaster.close()"
   ]
  },
  {
   "cell_type": "code",
   "execution_count": null,
   "metadata": {},
   "outputs": [],
   "source": [
    "#given identifying information for a collection item, produce a stub record for the website containing basic metadata"
   ]
  }
 ],
 "metadata": {
  "kernelspec": {
   "display_name": "Python 3",
   "language": "python",
   "name": "python3"
  },
  "language_info": {
   "codemirror_mode": {
    "name": "ipython",
    "version": 3
   },
   "file_extension": ".py",
   "mimetype": "text/x-python",
   "name": "python",
   "nbconvert_exporter": "python",
   "pygments_lexer": "ipython3",
   "version": "3.6.5"
  }
 },
 "nbformat": 4,
 "nbformat_minor": 2
}
